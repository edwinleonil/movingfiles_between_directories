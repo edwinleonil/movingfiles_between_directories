{
 "cells": [
  {
   "cell_type": "code",
   "execution_count": 7,
   "metadata": {},
   "outputs": [
    {
     "name": "stdout",
     "output_type": "stream",
     "text": [
      "Moved 362 files to K:\\Projects\\Live\\Rolls Royce\\MUSIC-Automated Visual Inspection\\AVI_data_models_reports\\Datasets\\NP_Labelling\\original_labels\n",
      "Done!\n"
     ]
    }
   ],
   "source": [
    "import os\n",
    "import shutil\n",
    "\n",
    "def move_files(source_folder, destination_folder, reference_folder):\n",
    "    # Get list of files in the reference folder\n",
    "    reference_files = os.listdir(reference_folder)\n",
    "    counter = 0\n",
    "    # Iterate through files in the source folder\n",
    "    for file_name in os.listdir(source_folder):\n",
    "        if file_name.endswith('.txt'):\n",
    "            # Check if the file name matches a file in the reference folder\n",
    "            # remove the .txt extension and replace with .png\n",
    "            image_file_name = file_name.replace('.txt', '.png')\n",
    "            if image_file_name in reference_files:\n",
    "                counter += 1\n",
    "                source_file_path = os.path.join(source_folder, file_name)\n",
    "                destination_file_path = os.path.join(destination_folder, file_name)\n",
    "                # Move the file to the destination folder\n",
    "                shutil.move(source_file_path, destination_file_path)\n",
    "                \n",
    "    print(f\"Moved {counter} files to {destination_folder}\")\n",
    "    print(\"Done!\")\n",
    "\n",
    "# Example usage\n",
    "source_folder = r\"K:\\Projects\\Live\\Rolls Royce\\MUSIC-Automated Visual Inspection\\AVI_data_models_reports\\Datasets\\ObjDetectionMethod\\original_labels_temp\"\n",
    "destination_folder = r\"K:\\Projects\\Live\\Rolls Royce\\MUSIC-Automated Visual Inspection\\AVI_data_models_reports\\Datasets\\NP_Labelling\\original_labels\"\n",
    "reference_folder = r\"K:\\Projects\\Live\\Rolls Royce\\MUSIC-Automated Visual Inspection\\AVI_data_models_reports\\Datasets\\NP_Labelling\\images\"\n",
    "\n",
    "move_files(source_folder, destination_folder, reference_folder)\n"
   ]
  }
 ],
 "metadata": {
  "kernelspec": {
   "display_name": "pyword",
   "language": "python",
   "name": "python3"
  },
  "language_info": {
   "codemirror_mode": {
    "name": "ipython",
    "version": 3
   },
   "file_extension": ".py",
   "mimetype": "text/x-python",
   "name": "python",
   "nbconvert_exporter": "python",
   "pygments_lexer": "ipython3",
   "version": "3.9.17"
  }
 },
 "nbformat": 4,
 "nbformat_minor": 2
}
